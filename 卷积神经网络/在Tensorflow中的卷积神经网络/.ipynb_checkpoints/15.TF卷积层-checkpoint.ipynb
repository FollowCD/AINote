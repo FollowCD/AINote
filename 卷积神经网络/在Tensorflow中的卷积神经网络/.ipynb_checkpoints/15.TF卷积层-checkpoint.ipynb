{
 "cells": [
  {
   "cell_type": "markdown",
   "metadata": {},
   "source": [
    "## 使用 TensorFlow 做卷积\n",
    "让我们用所学知识在 TensorFlow 里构建真的 CNNs。在下面的练习中，你需要设定卷积核滤波器（filters）的维度，weight，bias。这在很大程度上来说是 TensorFlow CNNs 最难的部分。一旦你知道如何设置这些属性的大小，应用 CNNs 会很方便。\n",
    "\n",
    "## 回顾\n",
    "你应该看一下[二维卷积](https://www.tensorflow.org/api_guides/python/nn#Convolution)的文档。文档大部分都很清楚，padding这一部分，可能会有点难以理解。padding 会根据你给出的 'VALID' 或者 'SAME' 参数，做相应改变。\n",
    "\n",
    "这些也是需要你回顾的：\n",
    "\n",
    "1. TensorFlow 变量。\n",
    "2. Truncated 正态分布 - 在 TensorFlow 中你需要在一个正态分布的区间中初始化你的权值.\n",
    "3. 根据输入大小、滤波器大小，来决定输出维度（如下所示）。你用这个来决定滤波器应该是什么样：\n",
    "\n",
    "```\n",
    " new_height = (input_height - filter_height + 2 * P)/S + 1\n",
    " new_width = (input_width - filter_width + 2 * P)/S + 1\n",
    "```"
   ]
  },
  {
   "cell_type": "markdown",
   "metadata": {},
   "source": [
    "## 补充材料\n",
    "有很多免费的资源可以让你对卷积神经网络有更深入的了解。在本课中，我们的目标是让你了解这个概念如何解决现实问题。你也有了能力来继续探索。我们强烈推荐你参考下列资源来强化你的理解以及了解更多概念。\n",
    "\n",
    "我们特别推荐的阅读材料如下：\n",
    "\n",
    "1. Andrej Karpathy's [CS231n Stanford course](http://cs231n.github.io/) on Convolutional Neural Networks.\n",
    "2. Michael Nielsen's f[ree book](http://neuralnetworksanddeeplearning.com/) on Deep Learning.\n",
    "3. Goodfellow, Bengio, and Courville's more advanced [free book](http://deeplearningbook.org/) on Deep Learning."
   ]
  },
  {
   "cell_type": "markdown",
   "metadata": {},
   "source": [
    "## 权重选择额外资料\n",
    "近年来，新的权重处理方法不断被提出，在此列举一些对神经网络领域影响较大的论文：\n",
    "\n",
    "1. [Understanding the difficulty of training deep feedforward neural networks](http://jmlr.org/proceedings/papers/v9/glorot10a/glorot10a.pdf)\n",
    "2. [Delving Deep into Rectifiers: Surpassing Human-Level Performance on ImageNet Classification](https://arxiv.org/pdf/1502.01852v1.pdf)\n",
    "3. [Batch Normalization: Accelerating Deep Network Training by Reducing Internal Covariate Shift](https://arxiv.org/pdf/1502.03167v2.pdf)"
   ]
  }
 ],
 "metadata": {
  "kernelspec": {
   "display_name": "Python 3",
   "language": "python",
   "name": "python3"
  },
  "language_info": {
   "codemirror_mode": {
    "name": "ipython",
    "version": 3
   },
   "file_extension": ".py",
   "mimetype": "text/x-python",
   "name": "python",
   "nbconvert_exporter": "python",
   "pygments_lexer": "ipython3",
   "version": "3.6.5"
  }
 },
 "nbformat": 4,
 "nbformat_minor": 2
}
