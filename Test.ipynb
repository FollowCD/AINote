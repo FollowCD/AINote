{
 "cells": [
  {
   "cell_type": "code",
   "execution_count": 2,
   "metadata": {},
   "outputs": [
    {
     "name": "stdout",
     "output_type": "stream",
     "text": [
      "b'Hello World'\n"
     ]
    }
   ],
   "source": [
    "import tensorflow as tf\n",
    "#tf.constant(value)=>返回常量tensor\n",
    "hello_constant = tf.constant('Hello World')\n",
    "#tf.Session() 创建session环境来运行 tensor求值\n",
    "with tf.Session() as sess:\n",
    "    output = sess.run(hello_constant)\n",
    "    print(output)"
   ]
  },
  {
   "cell_type": "code",
   "execution_count": 4,
   "metadata": {},
   "outputs": [
    {
     "name": "stdout",
     "output_type": "stream",
     "text": [
      "Hellow World\n"
     ]
    }
   ],
   "source": [
    "#tf.placeholder(valueType) =>返回可变的tensor\n",
    "x= tf.placeholder(tf.string)\n",
    "\n",
    "with tf.Session() as sess:\n",
    "    #feed_dict在sess.run()中表示设置站位tensor。\n",
    "    output = sess.run(x,feed_dict={x:'Hellow World'})\n",
    "    print(output)"
   ]
  },
  {
   "cell_type": "code",
   "execution_count": 12,
   "metadata": {},
   "outputs": [
    {
     "name": "stdout",
     "output_type": "stream",
     "text": [
      "34.3\n"
     ]
    }
   ],
   "source": [
    "#注意，这个东西可以设置很多歌站位tensor\n",
    "y=tf.placeholder(tf.int32)\n",
    "z=tf.placeholder(tf.float32)\n",
    "\n",
    "with tf.Session() as sess:\n",
    "    #feed_dict相当于是对 某个声明的placeholder赋值，但是还是没搞明白赋值多个值有什么意思\n",
    "    output = sess.run(z,feed_dict={y:1234,z:34.3})\n",
    "    print(output)"
   ]
  },
  {
   "cell_type": "code",
   "execution_count": 22,
   "metadata": {},
   "outputs": [
    {
     "name": "stdout",
     "output_type": "stream",
     "text": [
      "0.9230769\n",
      "<class 'tensorflow.python.framework.ops.Tensor'>\n"
     ]
    }
   ],
   "source": [
    "a = tf.constant(12)\n",
    "b = tf.constant(13.0)\n",
    "\n",
    "#类型转换\n",
    "a = tf.cast(a,tf.float32)\n",
    "#加法\n",
    "c =tf.add(a,b)\n",
    "#减法\n",
    "d = tf.subtract(a,b)\n",
    "#乘法\n",
    "e = tf.multiply(a,b)\n",
    "#除法\n",
    "f= tf.divide(a,b)\n",
    "with tf.Session() as se:\n",
    "    print(se.run(f))\n",
    "    print(type(c))\n"
   ]
  },
  {
   "cell_type": "code",
   "execution_count": 29,
   "metadata": {},
   "outputs": [
    {
     "name": "stdout",
     "output_type": "stream",
     "text": [
      "5\n"
     ]
    }
   ],
   "source": [
    "#可以改变的tensor\n",
    "x = tf.Variable(5)\n",
    "with tf.Session() as se:\n",
    "    se.run(x.initializer)\n",
    "    print(se.run(x))"
   ]
  },
  {
   "cell_type": "code",
   "execution_count": 32,
   "metadata": {},
   "outputs": [
    {
     "name": "stdout",
     "output_type": "stream",
     "text": [
      "[[ 0.80020833  1.0476861  -1.6716974   1.9024004   0.68187433]\n",
      " [ 0.818476    0.77752465 -1.3180068  -0.616964   -0.71439725]\n",
      " [-0.4636816  -0.31636056  0.5836321   1.2463789  -0.5435934 ]\n",
      " [-0.99956924  0.8085113   0.7159128   0.42563555  0.04177723]\n",
      " [ 1.1234915   0.4923074  -0.41198066 -0.1070033   0.7845778 ]\n",
      " [-1.283885    0.24439937  0.19811116  0.31681356  0.18062514]\n",
      " [ 1.7092242  -0.4290254  -1.9820449  -0.490221    0.96343607]\n",
      " [-0.8648838   1.0050249  -0.58878547  0.08637504 -0.5159742 ]\n",
      " [-0.4325987  -0.5995777  -0.6444781  -0.73774695 -0.913574  ]\n",
      " [ 0.5124484   0.12590504  0.20967291 -0.2894685  -1.0461934 ]\n",
      " [ 1.7206411  -0.03080015  0.17789046 -1.5323759  -0.8534149 ]\n",
      " [ 0.39032784 -0.31696212 -1.5443692  -0.19574638 -0.18145324]]\n"
     ]
    }
   ],
   "source": [
    "n_features=12\n",
    "n_labels=5\n",
    "#返回一个 tensor，它的随机值取自一个正态分布，并且它们的取值会在这个正态分布平均值的两个标准差之内\n",
    "weights =tf.Variable(tf.truncated_normal((n_features,n_labels)))\n",
    "\n",
    "with tf.Session() as se:\n",
    "    se.run(weights.initializer)\n",
    "    print(se.run(weights))"
   ]
  },
  {
   "cell_type": "code",
   "execution_count": null,
   "metadata": {},
   "outputs": [],
   "source": [
    "#返回都是0的tensor\n",
    "tf.zeros()"
   ]
  }
 ],
 "metadata": {
  "kernelspec": {
   "display_name": "Python 3",
   "language": "python",
   "name": "python3"
  },
  "language_info": {
   "codemirror_mode": {
    "name": "ipython",
    "version": 3
   },
   "file_extension": ".py",
   "mimetype": "text/x-python",
   "name": "python",
   "nbconvert_exporter": "python",
   "pygments_lexer": "ipython3",
   "version": "3.5.5"
  }
 },
 "nbformat": 4,
 "nbformat_minor": 2
}
