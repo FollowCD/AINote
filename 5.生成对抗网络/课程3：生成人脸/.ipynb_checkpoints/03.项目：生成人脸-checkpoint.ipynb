{
 "cells": [
  {
   "cell_type": "markdown",
   "metadata": {},
   "source": [
    "# 人脸生成项目\n",
    "## 介绍\n",
    "在该项目中，你将使用对抗生成神经网络（GAN）生成新的人脸图像。\n",
    "\n",
    "## 获取项目文件\n",
    "项目文件可以在我们的 [公共 GitHub 库](https://github.com/udacity/cn-deep-learning/tree/master/) 里的 face_generation 文件夹中找到。你可以从那里下载文件，或者更为方便的做法是将 GitHub repo 克隆到你的计算机上。\n",
    "\n",
    "如果将 GitHub repo 克隆下来，你就可以通过 git pull 命令，将我们的最新改动更新到你的本地库上，随时保持更新。\n",
    "\n",
    "## 项目提交\n",
    "确保你通过了 notebook 中的所有单元测试。\n",
    "确保你符合评审标准中的所有要求。\n",
    "当你完成项目后，请将 notebook 保存为一个 HTML 文件以及一个 Python 文件。你可以进入 notebook 的菜单，选择“Download as”> HTML (.html) 来保存 HTML 文件；选择“Download as”> Python (.py) 来保存 Python 文件。**确保你同时提交 Jupyter Notebook 以及 HTML 和 Python 这三个版本的文件**。\n",
    "将 \"dlnd_face_generation.ipynb\"，\"helper.py\"，\"problem_unittests.py\" ， HTML 以及 Python 文件打成一个 zip 压缩包，或者将这些文件推送到 GitHub repo 上。\n",
    "点击下面的“提交项目”按钮！"
   ]
  }
 ],
 "metadata": {
  "kernelspec": {
   "display_name": "Python 3",
   "language": "python",
   "name": "python3"
  },
  "language_info": {
   "codemirror_mode": {
    "name": "ipython",
    "version": 3
   },
   "file_extension": ".py",
   "mimetype": "text/x-python",
   "name": "python",
   "nbconvert_exporter": "python",
   "pygments_lexer": "ipython3",
   "version": "3.6.5"
  }
 },
 "nbformat": 4,
 "nbformat_minor": 2
}
