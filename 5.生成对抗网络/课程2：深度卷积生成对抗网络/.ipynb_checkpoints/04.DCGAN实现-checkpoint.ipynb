{
 "cells": [
  {
   "cell_type": "markdown",
   "metadata": {},
   "source": [
    "## DCGAN 实现\n",
    "我们准备了一些 notebook 供你参考，帮你使用[街景门牌号](http://ufldl.stanford.edu/housenumbers/) (SVHN) 数据集来实现 DCGAN。\n",
    "\n",
    "跟往常一样，你可以在我们的 [GitHub 代码库](https://github.com/udacity/cn-deep-learning) 中找到 notebook，它们位于 tutorials/dcgan-svhn 文件夹下。如果你已克隆了代码库，可以执行 git pull 来获取新文件。如果没有，请先克隆代码库：\n",
    "\n",
    "git clone https://github.com/udacity/cn-deep-learning.git\n",
    "或者，你也可以[在此](https://github.com/udacity/cn-deep-learning/tree/master/tutorials/dcgan-svhn) 获取 notebook。"
   ]
  }
 ],
 "metadata": {
  "kernelspec": {
   "display_name": "Python 3",
   "language": "python",
   "name": "python3"
  },
  "language_info": {
   "codemirror_mode": {
    "name": "ipython",
    "version": 3
   },
   "file_extension": ".py",
   "mimetype": "text/x-python",
   "name": "python",
   "nbconvert_exporter": "python",
   "pygments_lexer": "ipython3",
   "version": "3.6.5"
  }
 },
 "nbformat": 4,
 "nbformat_minor": 2
}
