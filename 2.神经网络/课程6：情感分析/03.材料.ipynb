{
 "cells": [
  {
   "cell_type": "markdown",
   "metadata": {},
   "source": [
    "## 材料\n",
    "在你学习该课程中，打开Jupyter Notebook 并尝试练习是非常重要的。 这种学习体验的价值很大程度上在于，将你的解决方案与Andrew的答案对比，发现其中的不同之处。你会学会用自己的方式玩转代码。这样你会从课程中受益匪浅！\n",
    "\n",
    "## 工作区\n",
    "打开 notebook 的最好方式是直接进入“下一页的教室”， 我们建议你在新窗口的 Notebook 上工作，并观看视频。 你也可以通过单击教室中的“下一步”按钮来访问 Notebook。\n",
    "\n",
    "如果你希望将 Notebook 下载下来，你可以从[我们的 Github 仓库](https://github.com/udacity/deep-learning) 下载下来. 你既可以使用 git clone https://github.com/udacity/deep-learning.git 下载该仓库，也可以从[这一链接](https://github.com/udacity/deep-learning/archive/master.zip)中以存档文件的形式下载下来。\n",
    "\n",
    "在该课程中，你会使用到如下文件：\n",
    "\n",
    "    Sentiment_Classification_Projects.ipynb - 一个Notebook，你将用它来学习并演练迷你项目。\n",
    "    Sentiment_Classification_Solutions.ipynb - 一个Notebook，包括Andrew课程项目的解决方案，供你参考\n",
    "    每个迷你项目的解决方案的Notebook\n",
    "    reviews.txt - 包含了2.5万个电影评论\n",
    "    labels.txt - 在reviews.txt中包含相关评论的正面/负面情绪标签\n",
    "**注意：**这些课程的Notebook自录制视频后已经更新。 在大多数情况下，这只意味着你的Notebook将比你在视频中看到的内容，包含更多的提示和解释性文本，但是在代码中可能存在一些细微差异。 有了这些变更，你仍然可以跟随课程进度，并且应该更容易理解项目材料。"
   ]
  }
 ],
 "metadata": {
  "kernelspec": {
   "display_name": "Python 3",
   "language": "python",
   "name": "python3"
  },
  "language_info": {
   "codemirror_mode": {
    "name": "ipython",
    "version": 3
   },
   "file_extension": ".py",
   "mimetype": "text/x-python",
   "name": "python",
   "nbconvert_exporter": "python",
   "pygments_lexer": "ipython3",
   "version": "3.6.5"
  }
 },
 "nbformat": 4,
 "nbformat_minor": 2
}
