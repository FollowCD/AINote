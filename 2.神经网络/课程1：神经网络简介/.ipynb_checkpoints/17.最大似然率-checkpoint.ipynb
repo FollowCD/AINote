{
 "cells": [
  {
   "cell_type": "markdown",
   "metadata": {},
   "source": [
    "## 最大似然率\n",
    "在我们学习深度学习的过程中，将一直用到概率。在这节课，我们将学习如何使用概率来评估（并改善）我们的模型。\n",
    "\n",
    "下个视频将介绍最大似然率的更正式处理方法。"
   ]
  }
 ],
 "metadata": {
  "kernelspec": {
   "display_name": "Python 3",
   "language": "python",
   "name": "python3"
  },
  "language_info": {
   "codemirror_mode": {
    "name": "ipython",
    "version": 3
   },
   "file_extension": ".py",
   "mimetype": "text/x-python",
   "name": "python",
   "nbconvert_exporter": "python",
   "pygments_lexer": "ipython3",
   "version": "3.6.5"
  }
 },
 "nbformat": 4,
 "nbformat_minor": 2
}
