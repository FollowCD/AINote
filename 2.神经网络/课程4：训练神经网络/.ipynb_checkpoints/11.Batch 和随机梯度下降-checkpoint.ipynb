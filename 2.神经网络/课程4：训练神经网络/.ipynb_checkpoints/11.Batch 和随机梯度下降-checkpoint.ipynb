{
 "cells": [
  {
   "cell_type": "markdown",
   "metadata": {},
   "source": [
    "## Keras 中的随机梯度下降\n",
    "在 Keras 中很容易实现随机梯度下降。我们只需按以下命令在训练流程中指定批次大小：\n",
    "```\n",
    "model.fit(X_train, y_train, epochs=1000, batch_size=100, verbose=0)\n",
    "```\n",
    "这里，我们将数据分成 100 批。"
   ]
  }
 ],
 "metadata": {
  "kernelspec": {
   "display_name": "Python 3",
   "language": "python",
   "name": "python3"
  },
  "language_info": {
   "codemirror_mode": {
    "name": "ipython",
    "version": 3
   },
   "file_extension": ".py",
   "mimetype": "text/x-python",
   "name": "python",
   "nbconvert_exporter": "python",
   "pygments_lexer": "ipython3",
   "version": "3.6.5"
  }
 },
 "nbformat": 4,
 "nbformat_minor": 2
}
