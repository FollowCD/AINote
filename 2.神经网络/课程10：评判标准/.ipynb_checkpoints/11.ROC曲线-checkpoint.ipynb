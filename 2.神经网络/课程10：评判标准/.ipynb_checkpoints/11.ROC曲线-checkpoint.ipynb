{
 "cells": [
  {
   "cell_type": "markdown",
   "metadata": {},
   "source": [
    "更正： 视频04：03处，y轴上两个坐标点（0，0.571）和（0，0.429）标反了\n",
    "\n",
    "更正： 视频04：03处，y轴上两个坐标点（0，0.571）和（0，0.429）标反了"
   ]
  }
 ],
 "metadata": {
  "kernelspec": {
   "display_name": "Python 3",
   "language": "python",
   "name": "python3"
  },
  "language_info": {
   "codemirror_mode": {
    "name": "ipython",
    "version": 3
   },
   "file_extension": ".py",
   "mimetype": "text/x-python",
   "name": "python",
   "nbconvert_exporter": "python",
   "pygments_lexer": "ipython3",
   "version": "3.6.5"
  }
 },
 "nbformat": 4,
 "nbformat_minor": 2
}
