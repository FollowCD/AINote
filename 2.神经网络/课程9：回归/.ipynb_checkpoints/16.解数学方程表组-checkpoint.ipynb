{
 "cells": [
  {
   "cell_type": "markdown",
   "metadata": {},
   "source": [
    "修正：视频中02:03秒处公式有误，具体请参阅：课程17.参考答案：解数学方程组，抱歉给您的学习带来不便。"
   ]
  }
 ],
 "metadata": {
  "kernelspec": {
   "display_name": "Python 3",
   "language": "python",
   "name": "python3"
  },
  "language_info": {
   "codemirror_mode": {
    "name": "ipython",
    "version": 3
   },
   "file_extension": ".py",
   "mimetype": "text/x-python",
   "name": "python",
   "nbconvert_exporter": "python",
   "pygments_lexer": "ipython3",
   "version": "3.6.5"
  }
 },
 "nbformat": 4,
 "nbformat_minor": 2
}
