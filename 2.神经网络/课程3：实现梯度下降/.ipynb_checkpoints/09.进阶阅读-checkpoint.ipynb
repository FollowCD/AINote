{
 "cells": [
  {
   "cell_type": "markdown",
   "metadata": {},
   "source": [
    "## 进阶阅读\n",
    "反向传播（Backpropagation）是深度学习的基础。TensorFlow 或者其它框架会替你把它做好，但是你应该理解它的算法。我们后面还会讲到它，这里有些材料你可以看一下：\n",
    "\n",
    "Andrej Karpathy：[是的，你应该了解反向传播](https://medium.com/@karpathy/yes-you-should-understand-backprop-e2f06eab496b#.vt3ax2kg9)\n",
    "\n",
    "同样来自 Andrej Karpathy：[斯坦福的 CS231n 课程的一个视频](https://www.youtube.com/watch?v=59Hbtz7XgjM)"
   ]
  }
 ],
 "metadata": {
  "kernelspec": {
   "display_name": "Python 3",
   "language": "python",
   "name": "python3"
  },
  "language_info": {
   "codemirror_mode": {
    "name": "ipython",
    "version": 3
   },
   "file_extension": ".py",
   "mimetype": "text/x-python",
   "name": "python",
   "nbconvert_exporter": "python",
   "pygments_lexer": "ipython3",
   "version": "3.6.5"
  }
 },
 "nbformat": 4,
 "nbformat_minor": 2
}
