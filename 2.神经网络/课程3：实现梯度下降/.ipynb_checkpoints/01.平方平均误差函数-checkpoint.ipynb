{
 "cells": [
  {
   "cell_type": "markdown",
   "metadata": {},
   "source": [
    "## 对数损失函数 和平方平均误差\n",
    "之前，Luis讲述了对数损失函数。除此之外，还有很多其他误差函数都可以应用在神经网络中. 现在我们来介绍另一个，平方平均误差。从名字可以看出，它表示预测值和标签值的差的平方的平均值。接下来，我们会讲述更多细节，然后在学生录取数据集上实现向后传播算法。\n",
    "\n",
    "令人兴奋的是，我们会用 numpy 的矩阵乘法高效实现这一算法。"
   ]
  }
 ],
 "metadata": {
  "kernelspec": {
   "display_name": "Python 3",
   "language": "python",
   "name": "python3"
  },
  "language_info": {
   "codemirror_mode": {
    "name": "ipython",
    "version": 3
   },
   "file_extension": ".py",
   "mimetype": "text/x-python",
   "name": "python",
   "nbconvert_exporter": "python",
   "pygments_lexer": "ipython3",
   "version": "3.6.5"
  }
 },
 "nbformat": 4,
 "nbformat_minor": 2
}
