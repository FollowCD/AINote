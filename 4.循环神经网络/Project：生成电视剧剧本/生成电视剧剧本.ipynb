{
 "cells": [
  {
   "cell_type": "markdown",
   "metadata": {},
   "source": [
    "## 生成电视剧剧本\n",
    "### 介绍\n",
    "在该项目中，你将使用 RNN 来生成你自己版本的《辛普森一家》剧集剧本。你将使用该剧27季中的部分剧本作为数据集。你创建的神经网络，将为一个在 Moe 酒馆中的场景生成一集新的剧本。\n",
    "\n",
    "## 获取项目文件\n",
    "项目文件可以在我们的 [公共 GitHub 库](https://github.com/udacity/cn-deep-learning/tree/master/) 里的 tv-script-generation 文件夹中找到。你可以从那里下载文件，或者更为方便的做法是将 GitHub repo 克隆到你的计算机上。\n",
    "\n",
    "如果将 GitHub repo 克隆下来，你就可以通过 git pull 命令，将我们的最新改动更新到你的本地库上，随时保持更新。\n",
    "\n",
    "## 项目提交\n",
    "确保你通过了 notebook 中的所有单元测试。\n",
    "确保你符合评审标准中的所有要求。\n",
    "当你完成项目后，请将 notebook 保存为一个 HTML 文件以及一个 Python 文件。你可以进入 notebook 的菜单，选择“Download as”> HTML (.html) 来保存 HTML 文件；选择“Download as”> Python (.py) 来保存 Python 文件。确保你同时提交 Jupyter Notebook 以及 HTML 和 Python 这三个版本的文件。\n",
    "将 \"dlnd_tv_script_generation.ipynb\"，\"helper.py\"，\"problem_unittests.py\" ， HTML 以及 Python 文件打成一个 zip 压缩包，或者将这些文件推送到 GitHub repo 上。\n",
    "点击下面的“提交项目”按钮！\n",
    "提醒：如果你选择上传文档，你需要用英文命名文档，文件名中若有中文字符，会导致提交失败。\n",
    "\n",
    "## 项目延伸\n",
    "在完成该项目之后，你可以应用你所学的知识，继续尝试解决如下的问题：\n",
    "\n",
    "参考 DeepBach，生成你自己版本的巴赫音乐。：https://arxiv.org/pdf/1612.01010.pdf\n",
    "\n",
    "参考 Kaggle 中的项目，从颅内 EEG 记录中预测癫痫病。：https://www.kaggle.com/c/seizure-prediction"
   ]
  }
 ],
 "metadata": {
  "kernelspec": {
   "display_name": "Python 3",
   "language": "python",
   "name": "python3"
  },
  "language_info": {
   "codemirror_mode": {
    "name": "ipython",
    "version": 3
   },
   "file_extension": ".py",
   "mimetype": "text/x-python",
   "name": "python",
   "nbconvert_exporter": "python",
   "pygments_lexer": "ipython3",
   "version": "3.6.5"
  }
 },
 "nbformat": 4,
 "nbformat_minor": 2
}
