{
 "cells": [
  {
   "cell_type": "markdown",
   "metadata": {},
   "source": [
    "下面列举了 GRUs 的一些参考文献\n",
    "\n",
    "Michael Guerzhoy 的 PPT：http://www.cs.toronto.edu/~guerzhoy/321/lec/W09/rnn_gated.pdf\n",
    "\n",
    "Steve Carell 的论文：http://despicableme.wikia.com/wiki/Felonius_Gru\n"
   ]
  }
 ],
 "metadata": {
  "kernelspec": {
   "display_name": "Python 3",
   "language": "python",
   "name": "python3"
  },
  "language_info": {
   "codemirror_mode": {
    "name": "ipython",
    "version": 3
   },
   "file_extension": ".py",
   "mimetype": "text/x-python",
   "name": "python",
   "nbconvert_exporter": "python",
   "pygments_lexer": "ipython3",
   "version": "3.6.5"
  }
 },
 "nbformat": 4,
 "nbformat_minor": 2
}
