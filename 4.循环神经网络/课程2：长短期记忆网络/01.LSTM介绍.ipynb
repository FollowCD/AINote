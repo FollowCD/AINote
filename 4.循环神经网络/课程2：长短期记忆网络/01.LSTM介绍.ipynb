{
 "cells": [
  {
   "cell_type": "markdown",
   "metadata": {},
   "source": [
    "Hi! 我是 Luis, 又和你见面啦！\n",
    "\n",
    "现在你已经学习过循环神经网络，接下来我将教你什么是 LSTM 。 LSTM 表示长短期记忆网络，当我们的神经网络需要在记忆最近的事物和很久以前的事情之间切换时，LSTM 是非常有用的。 不过首先，我想和你分享一些很好的阅读资料，希望你可以进一步研究。 这里有很多关于 LSTM 的资源帖子，其中我最爱的两个是：\n",
    "\n",
    "Chris Olah 的 LSTM 帖子：http://colah.github.io/posts/2015-08-Understanding-LSTMs/\n",
    "\n",
    "Edwin Chen 的 LSTM 帖子：http://blog.echen.me/2017/05/30/exploring-lstms/\n",
    "\n",
    "接下来，我们一起来深入学习吧！"
   ]
  }
 ],
 "metadata": {
  "kernelspec": {
   "display_name": "Python 3",
   "language": "python",
   "name": "python3"
  },
  "language_info": {
   "codemirror_mode": {
    "name": "ipython",
    "version": 3
   },
   "file_extension": ".py",
   "mimetype": "text/x-python",
   "name": "python",
   "nbconvert_exporter": "python",
   "pygments_lexer": "ipython3",
   "version": "3.6.5"
  }
 },
 "nbformat": 4,
 "nbformat_minor": 2
}
