{
 "cells": [
  {
   "cell_type": "markdown",
   "metadata": {},
   "source": [
    "如果你想了解有关超参数的更多信息，以下是关于此主题的一些很好的资源：\n",
    "\n",
    "[用基于梯度下降的方法训练深度框架的实践推荐指导](https://arxiv.org/abs/1206.5533)，作者：Yoshua Bengio\n",
    "\n",
    "[深度学习手册 - 第 11.4 章：选择超参数](http://www.deeplearningbook.org/contents/guidelines.html)，作者：Ian Goodfellow、Yoshua Bengio、Aaron Courville\n",
    "神经网络和深度学习手册 - 第 3 章：如何选择神经网络超参数？作者：Michael Nielsen\n",
    "[有效 BackProp (pdf)](http://yann.lecun.com/exdb/publis/pdf/lecun-98b.pdf) ，作者：Yann LeCun\n",
    "\n",
    "## 更多专业资源：\n",
    "[如何生成好的单词嵌入？](https://arxiv.org/abs/1507.05523)作者：Siwei Lai、Kang Liu、Liheng Xu、Jun Zhao\n",
    "\n",
    "[系统评估 CNN 在 ImageNet 上的进步](https://arxiv.org/abs/1606.02228)，作者：Dmytro Mishkin、Nikolay Sergievskiy、Jiri Matas\n",
    "\n",
    "[可视化和理解循环网络](https://arxiv.org/abs/1506.02078)，作者：Andrej Karpathy、Justin Johnson、Li Fei-Fei"
   ]
  }
 ],
 "metadata": {
  "kernelspec": {
   "display_name": "Python 3",
   "language": "python",
   "name": "python3"
  },
  "language_info": {
   "codemirror_mode": {
    "name": "ipython",
    "version": 3
   },
   "file_extension": ".py",
   "mimetype": "text/x-python",
   "name": "python",
   "nbconvert_exporter": "python",
   "pygments_lexer": "ipython3",
   "version": "3.6.5"
  }
 },
 "nbformat": 4,
 "nbformat_minor": 2
}
