{
 "cells": [
  {
   "cell_type": "markdown",
   "metadata": {},
   "source": [
    "Systematic evaluation of CNN advances on the ImageNet ：https://arxiv.org/abs/1606.02228\n",
    "\n",
    "作者：Dmytro Mishkin, Nikolay Sergievskiy, Jiri Matas"
   ]
  }
 ],
 "metadata": {
  "kernelspec": {
   "display_name": "Python 3",
   "language": "python",
   "name": "python3"
  },
  "language_info": {
   "codemirror_mode": {
    "name": "ipython",
    "version": 3
   },
   "file_extension": ".py",
   "mimetype": "text/x-python",
   "name": "python",
   "nbconvert_exporter": "python",
   "pygments_lexer": "ipython3",
   "version": "3.6.5"
  }
 },
 "nbformat": 4,
 "nbformat_minor": 2
}
