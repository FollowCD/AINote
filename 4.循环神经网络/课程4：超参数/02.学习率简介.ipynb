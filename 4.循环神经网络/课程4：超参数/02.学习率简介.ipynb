{
 "cells": [
  {
   "cell_type": "markdown",
   "metadata": {},
   "source": [
    "TensorFlow 中的[指数衰减函数。](https://tensorflow.google.cn/api_docs/python/tf/train/exponential_decay)\n",
    "\n",
    "## 自适应学习优化器\n",
    "AdamOptimizer:https://tensorflow.google.cn/api_docs/python/tf/train/AdamOptimizer\n",
    "\n",
    "AdagradOptimizer:https://tensorflow.google.cn/api_docs/python/tf/train/AdagradOptimizer"
   ]
  }
 ],
 "metadata": {
  "kernelspec": {
   "display_name": "Python 3",
   "language": "python",
   "name": "python3"
  },
  "language_info": {
   "codemirror_mode": {
    "name": "ipython",
    "version": 3
   },
   "file_extension": ".py",
   "mimetype": "text/x-python",
   "name": "python",
   "nbconvert_exporter": "python",
   "pygments_lexer": "ipython3",
   "version": "3.6.5"
  }
 },
 "nbformat": 4,
 "nbformat_minor": 2
}
