{
 "cells": [
  {
   "cell_type": "markdown",
   "metadata": {},
   "source": [
    "训练迭代次数是一个超参数，我们可以使用一种叫做“早期停止”（或“早期终止”）的技术自动优化。\n",
    "\n",
    "**ValidationMonitor**\n",
    "\n",
    "在 tensorflow 中，我们可以使用 [ValidationMonitor 与 tf.contrib.learn](https://tensorflow.google.cn/versions/r1.1/get_started/monitors)发挥两个功能：监督训练过程和在满足特定条件的情况下停止训练。\n",
    "\n",
    "来自 ValidationMonitor 文档的以下示例展示了它的设置。注意最后三个参数表示我们正在优化的指标。\n",
    "```\n",
    "validation_monitor = tf.contrib.learn.monitors.ValidationMonitor(\n",
    "  test_set.data,\n",
    "  test_set.target,\n",
    "  every_n_steps=50,\n",
    "  metrics=validation_metrics,\n",
    "  early_stopping_metric=\"loss\",\n",
    "  early_stopping_metric_minimize=True,\n",
    "  early_stopping_rounds=200)\n",
    "```\n",
    "最后一个参数向 ValidationMonitor 表示如果损失未在 200 步（轮）训练内降低，则停止训练过程。\n",
    "\n",
    "然后，validation_monitor 被传递给 tf.contrib.learn 的 \"fit\" 方法，后者运行以下训练过程：\n",
    "```\n",
    "classifier = tf.contrib.learn.DNNClassifier(\n",
    "  feature_columns=feature_columns,\n",
    "  hidden_units=[10, 20, 10],\n",
    "  n_classes=3,\n",
    "  model_dir=\"/tmp/iris_model\",\n",
    "  config=tf.contrib.learn.RunConfig(save_checkpoints_secs=1))\n",
    "\n",
    "classifier.fit(x=training_set.data,\n",
    "           y=training_set.target,\n",
    "           steps=2000,\n",
    "           monitors=[validation_monitor])\n",
    "```\n",
    "\n",
    "**SessionRunHook**\n",
    "\n",
    "最近版本的 TensorFlow 废弃了 Monitor 函数，而采用 [SessionRunHooks](https://www.tensorflow.org/api_docs/python/tf/train/SessionRunHook) 。SessionRunHook 是 tf.train 不断发展的一部分，往后似乎将是实施早期停止的一个适当位置。\n",
    "\n",
    "到本文写作之时，tf.train 的[训练钩子函数](https://www.tensorflow.org/api_guides/python/train#Training_Hooks) 中已存在两个预定义的停止 Monitor 函数。\n",
    "\n",
    "[StopAtStepHook](https://www.tensorflow.org/api_docs/python/tf/train/StopAtStepHook)：用于在特定步数之后要求停止训练的 Monitor 函数\n",
    "\n",
    "[NanTensorHook](https://www.tensorflow.org/api_docs/python/tf/train/NanTensorHook)：监控损失并在遇到 NaN 损失时停止训练的 Monitor 函数"
   ]
  }
 ],
 "metadata": {
  "kernelspec": {
   "display_name": "Python 3",
   "language": "python",
   "name": "python3"
  },
  "language_info": {
   "codemirror_mode": {
    "name": "ipython",
    "version": 3
   },
   "file_extension": ".py",
   "mimetype": "text/x-python",
   "name": "python",
   "nbconvert_exporter": "python",
   "pygments_lexer": "ipython3",
   "version": "3.6.5"
  }
 },
 "nbformat": 4,
 "nbformat_minor": 2
}
