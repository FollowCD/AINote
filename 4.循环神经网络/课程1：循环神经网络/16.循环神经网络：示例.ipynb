{
 "cells": [
  {
   "cell_type": "markdown",
   "metadata": {},
   "source": [
    "在这个例子中，我们将说明循环神经网络如何帮助检测序列。检测到某个序列时，系统必须记住之前的输入是什么，所以使用循环网络行得通。\n",
    "\n",
    "如果你不熟悉序列检测这个术语，这个术语是指可以查看特定输入模型是否已经进入系统。在我们的例子中，输入模型是单词 U,D,A,C,I,T,Y。"
   ]
  }
 ],
 "metadata": {
  "kernelspec": {
   "display_name": "Python 3",
   "language": "python",
   "name": "python3"
  },
  "language_info": {
   "codemirror_mode": {
    "name": "ipython",
    "version": 3
   },
   "file_extension": ".py",
   "mimetype": "text/x-python",
   "name": "python",
   "nbconvert_exporter": "python",
   "pygments_lexer": "ipython3",
   "version": "3.6.5"
  }
 },
 "nbformat": 4,
 "nbformat_minor": 2
}
