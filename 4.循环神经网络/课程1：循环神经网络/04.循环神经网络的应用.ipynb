{
 "cells": [
  {
   "cell_type": "markdown",
   "metadata": {},
   "source": [
    "这么多有趣的应用，我们来一探究竟！\n",
    "\n",
    "你喜欢玩游戏和机器人吗？查看 [Open AI 制造的 DotA2 机器人。](https://blog.openai.com/dota-2/)\n",
    "\n",
    "[为无声电影自动添加声音如何？](https://www.youtube.com/watch?time_continue=1&v=0FW99AQmMc8)\n",
    "\n",
    "这个酷炫工具是用来[自动生成手写体。](http://www.cs.toronto.edu/~graves/handwriting.cgi?text=My+name+is+Luka&style=&bias=0.15&samples=3)\n",
    "\n",
    "Amazon 的语音转文本使用高质量的语音识别[ Amazon Lex。](https://aws.amazon.com/lex/faqs/)\n",
    "\n",
    "Facebook 使用循环神经网络和长短期记忆网络技术[构建语言模型。](https://code.facebook.com/posts/1827693967466780/building-an-efficient-neural-language-model-over-a-billion-words/)\n",
    "\n",
    "Netflix也使用循环神经网络模型：这是个很有趣的[阅读材料。](https://arxiv.org/pdf/1511.06939.pdf)"
   ]
  }
 ],
 "metadata": {
  "kernelspec": {
   "display_name": "Python 3",
   "language": "python",
   "name": "python3"
  },
  "language_info": {
   "codemirror_mode": {
    "name": "ipython",
    "version": 3
   },
   "file_extension": ".py",
   "mimetype": "text/x-python",
   "name": "python",
   "nbconvert_exporter": "python",
   "pygments_lexer": "ipython3",
   "version": "3.6.5"
  }
 },
 "nbformat": 4,
 "nbformat_minor": 2
}
