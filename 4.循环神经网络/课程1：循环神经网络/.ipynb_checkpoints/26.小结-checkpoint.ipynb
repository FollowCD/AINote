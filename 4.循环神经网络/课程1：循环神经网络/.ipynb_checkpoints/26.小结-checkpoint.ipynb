{
 "cells": [
  {
   "cell_type": "markdown",
   "metadata": {},
   "source": [
    "在本课中，我们复习前馈神经网络及其训练过程。我们深入研究了循环神经网络，了解其背后的动机，使用时间，以及针对性用途。我们也学会了如何使用基于时间的反向传播算法来训练这些网络。我们了解当前的应用，如机器翻译，直观阐述了为什么很多其他应用程序使用循环神经网络，特别是长短期记忆网络。\n",
    "\n",
    "接下来，Luis 将带你走进长短期记忆网络架构。"
   ]
  }
 ],
 "metadata": {
  "kernelspec": {
   "display_name": "Python 3",
   "language": "python",
   "name": "python3"
  },
  "language_info": {
   "codemirror_mode": {
    "name": "ipython",
    "version": 3
   },
   "file_extension": ".py",
   "mimetype": "text/x-python",
   "name": "python",
   "nbconvert_exporter": "python",
   "pygments_lexer": "ipython3",
   "version": "3.6.5"
  }
 },
 "nbformat": 4,
 "nbformat_minor": 2
}
