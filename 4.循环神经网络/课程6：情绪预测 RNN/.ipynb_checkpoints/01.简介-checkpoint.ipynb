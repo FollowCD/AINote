{
 "cells": [
  {
   "cell_type": "markdown",
   "metadata": {},
   "source": [
    "## 情绪预测 RNN\n",
    "本课课程将构建一个用于预测情绪的循环神经网络，以巩固你所学的 RNN 知识。我使用了 Andrew Trask 课程中标记了“正面”和“负面”评价的 IMDB 影评为本次数据集。你可能已经在 Siraj 的课程中看到了类似的内容，但这次你将自己动手构建！\n",
    "\n",
    "我将交由你来实施此 RNN。你可以在该课程 公共 GitHub 代码库 中的 tutorials/sentiment-rnn 文件夹下找到本节课 notebook 文件，从 Github 下载文件或克隆代码库：\n",
    "\n",
    "git clone https://github.com/udacity/cn-deep-learning.git\n",
    "如果你已经有该代码库，则执行 git pull 获取最新的 notebook 文件。\n",
    "\n",
    "数据\n",
    "数据 reviews.txt 和 labels.txt 位于 tutorials/sentiment-network 目录。你也可以[在此](https://github.com/udacity/cn-deep-learning/blob/master/tutorials/sentiment-network/labels.txt)获取标签文件，[在此](https://github.com/udacity/cn-deep-learning/blob/master/tutorials/sentiment-network/reviews.txt)获取评论文件。"
   ]
  }
 ],
 "metadata": {
  "kernelspec": {
   "display_name": "Python 3",
   "language": "python",
   "name": "python3"
  },
  "language_info": {
   "codemirror_mode": {
    "name": "ipython",
    "version": 3
   },
   "file_extension": ".py",
   "mimetype": "text/x-python",
   "name": "python",
   "nbconvert_exporter": "python",
   "pygments_lexer": "ipython3",
   "version": "3.6.5"
  }
 },
 "nbformat": 4,
 "nbformat_minor": 2
}
