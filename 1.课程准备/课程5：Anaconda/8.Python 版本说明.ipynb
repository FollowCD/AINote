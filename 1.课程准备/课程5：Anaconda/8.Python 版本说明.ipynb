{
 "cells": [
  {
   "cell_type": "markdown",
   "metadata": {},
   "source": [
    "## 优达学城使用的 Python 版本\n",
    "优达学城的大部分纳米学位课程将专门使用（或者已经使用） Python 3。\n",
    "\n",
    "## 为何选择 Python 3\n",
    "1. Python 2.7 逐渐[过时了](https://pythonclock.org/)\n",
    "2. Python 3.6 具有很多出色的功能，例如[格式化的字符串](https://docs.python.org/3.6/whatsnew/3.6.html#pep-498-formatted-string-literals)\n",
    "目前，Python 3 中已经具有很多新的功能，没必要再使用 Python 2，除非你使用的是旧版代码。所有新的 Python 代码应该用 Python 3 编写。\n",
    "\n",
    "## Python 2 和 Python 3 之间的主要差别\n",
    "大部分情况下，Python 2 代码也可以用 Python 3 运行。当然，Python 3 中推出的大部分新功能无法向后兼容。而 Python 2 代码经常运行失败的是 print 语句。\n",
    "\n",
    "对于大部分的旧版 Python，包括 Python 2，输出功能如下所示：\n",
    "```\n",
    "print \"Hello\", \"world!\"\n",
    "> Hello world!\n",
    "```\n",
    "Python 3 中改成了一个函数。\n",
    "```\n",
    "print(\"Hello\", \"world!\")\n",
    "> Hello world!\n",
    "```\n",
    "在 2.6 版中，print 函数通过 __future__ 模块向后移植到 Python 2：\n",
    "```\n",
    "# 在 Python 2.6 及以上版本中\n",
    "from __future__ import print_function\n",
    "print(\"Hello\", \"world!\")\n",
    "> Hello world!\n",
    "```\n",
    "print 语句在 Python 3 中无法运行。如果你要输出内容，并希望在两个版本的 Python 中都可以，则需要在 Python 2 代码中导入 print_function。\n",
    "\n",
    "## 数据分析师纳米学位课程的学员注意事项\n",
    "深度学习课程学员请忽略此部分。\n",
    "\n",
    "目前，此纳米学位课程的大部分资料依然只适用于 Python 2.7。你可以通过打开“资源”标签并下载相应的 YAML 文件，为当前的数据分析师纳米学位课程快速设置一个环境。\n",
    "\n",
    "## 机器学习工程师纳米学位课程的学员注意事项\n",
    "深度学习课程学员请忽略此部分。\n",
    "\n",
    "目前，此纳米学位课程的大部分资料依然只适用于 Python 2.7。"
   ]
  }
 ],
 "metadata": {
  "kernelspec": {
   "display_name": "Python 3",
   "language": "python",
   "name": "python3"
  },
  "language_info": {
   "codemirror_mode": {
    "name": "ipython",
    "version": 3
   },
   "file_extension": ".py",
   "mimetype": "text/x-python",
   "name": "python",
   "nbconvert_exporter": "python",
   "pygments_lexer": "ipython3",
   "version": "3.6.5"
  }
 },
 "nbformat": 4,
 "nbformat_minor": 2
}
