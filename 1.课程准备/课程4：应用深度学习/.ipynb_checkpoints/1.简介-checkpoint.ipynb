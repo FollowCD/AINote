{
 "cells": [
  {
   "cell_type": "markdown",
   "metadata": {},
   "source": [
    "## 简介\n",
    "在这节课，我们将研究几个非常有趣的深度学习应用，这些应用是其他人已经在 Github 上提供的预先训练过的模型。如果你对具体情况不明白，也没关系！我们只是希望你能从几个不同的应用中了解深度学习的强大用处，并研究一下这些模型。你将在课程的后续部分深入了解这些模型。暂时先找些乐趣，并在适用时应用到自己的示例中！\n",
    "\n",
    "注意，这节课完全是可选内容，如果你想跳过，完全可以！"
   ]
  }
 ],
 "metadata": {
  "kernelspec": {
   "display_name": "Python 3",
   "language": "python",
   "name": "python3"
  },
  "language_info": {
   "codemirror_mode": {
    "name": "ipython",
    "version": 3
   },
   "file_extension": ".py",
   "mimetype": "text/x-python",
   "name": "python",
   "nbconvert_exporter": "python",
   "pygments_lexer": "ipython3",
   "version": "3.6.5"
  }
 },
 "nbformat": 4,
 "nbformat_minor": 2
}
