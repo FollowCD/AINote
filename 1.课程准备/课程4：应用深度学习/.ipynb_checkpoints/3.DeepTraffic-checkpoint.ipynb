{
 "cells": [
  {
   "cell_type": "markdown",
   "metadata": {},
   "source": [
    "## DeepTraffic\n",
    "你可以在[此处](https://selfdrivingcars.mit.edu/deeptrafficjs/)找到 DeepTraffic 模拟器。该神经网络尝试学习一种驾驶策略，使汽车能够通过[强化学习](https://en.wikipedia.org/wiki/Reinforcement_learning)以尽量最快的速度驾驶。当汽车选择的操作使汽车能快速移动时，该神经网络会受到奖励。正是这种反馈使得该网络能够找到实现最佳速度的操作策略。\n",
    "\n",
    "要详细了解如何设置参数和训练该网络，请阅读[此处的概述。](https://selfdrivingcars.mit.edu/deeptraffic/)\n",
    "\n",
    "请在 Slack #deeptraffic 频道上与其他学员讨论你的网络构建方法和结果。"
   ]
  }
 ],
 "metadata": {
  "kernelspec": {
   "display_name": "Python 3",
   "language": "python",
   "name": "python3"
  },
  "language_info": {
   "codemirror_mode": {
    "name": "ipython",
    "version": 3
   },
   "file_extension": ".py",
   "mimetype": "text/x-python",
   "name": "python",
   "nbconvert_exporter": "python",
   "pygments_lexer": "ipython3",
   "version": "3.6.5"
  }
 },
 "nbformat": 4,
 "nbformat_minor": 2
}
