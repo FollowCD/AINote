{
 "cells": [
  {
   "cell_type": "markdown",
   "metadata": {},
   "source": [
    "## 课外图书\n",
    "我们认为最佳学习方法是了解不同人对同一概念提出的不同见解。因此，我们建议你阅读以下几本图书，进一步了解深度学习。\n",
    "\n",
    "1. [Grokking Deep Learning](https://www.manning.com/books/grokking-deep-learning)，作者：Andrew Trask。使用我们的专属折扣码 traskud17 可以享受六折优惠。这本书对深度学习进行了基本介绍，更加直观，而不是只介绍抽象理论。\n",
    "2. [Neural Networks And Deep Learning](http://neuralnetworksanddeeplearning.com/)，作者：Michael Nielsen。这本书比《Grokking Deep Learning》更严密，包含大量的互动性有趣图表。\n",
    "3. [The Deep Learning Textbook](http://www.deeplearningbook.org/)，作者：Ian Goodfellow、Yoshua Bengio 和 Aaron Courville。这本在线图书包含了大量的资料，是三本书中最严密的一本。"
   ]
  }
 ],
 "metadata": {
  "kernelspec": {
   "display_name": "Python 3",
   "language": "python",
   "name": "python3"
  },
  "language_info": {
   "codemirror_mode": {
    "name": "ipython",
    "version": 3
   },
   "file_extension": ".py",
   "mimetype": "text/x-python",
   "name": "python",
   "nbconvert_exporter": "python",
   "pygments_lexer": "ipython3",
   "version": "3.6.5"
  }
 },
 "nbformat": 4,
 "nbformat_minor": 2
}
