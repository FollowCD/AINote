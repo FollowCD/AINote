{
 "cells": [
  {
   "cell_type": "markdown",
   "metadata": {},
   "source": [
    "[《使用神经网络的机器人强化学习》。](https://s3.cn-north-1.amazonaws.com.cn/static-documents/nd101/a261434.pdf)"
   ]
  }
 ],
 "metadata": {
  "kernelspec": {
   "display_name": "Python 3",
   "language": "python",
   "name": "python3"
  },
  "language_info": {
   "codemirror_mode": {
    "name": "ipython",
    "version": 3
   },
   "file_extension": ".py",
   "mimetype": "text/x-python",
   "name": "python",
   "nbconvert_exporter": "python",
   "pygments_lexer": "ipython3",
   "version": "3.6.5"
  }
 },
 "nbformat": 4,
 "nbformat_minor": 2
}
