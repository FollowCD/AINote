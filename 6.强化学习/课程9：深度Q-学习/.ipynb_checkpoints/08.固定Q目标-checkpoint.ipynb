{
 "cells": [
  {
   "cell_type": "markdown",
   "metadata": {},
   "source": [
    "是否曾好奇在现实中会怎样？请观看 [Carrot Stick Riding](https://www.youtube.com/watch?v=-PVFBGN_zoM)。（该链接为YouTuBe视频，国内网络中可能无法打开）"
   ]
  }
 ],
 "metadata": {
  "kernelspec": {
   "display_name": "Python 3",
   "language": "python",
   "name": "python3"
  },
  "language_info": {
   "codemirror_mode": {
    "name": "ipython",
    "version": 3
   },
   "file_extension": ".py",
   "mimetype": "text/x-python",
   "name": "python",
   "nbconvert_exporter": "python",
   "pygments_lexer": "ipython3",
   "version": "3.6.5"
  }
 },
 "nbformat": 4,
 "nbformat_minor": 2
}
