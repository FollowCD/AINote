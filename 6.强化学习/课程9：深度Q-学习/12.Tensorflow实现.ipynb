{
 "cells": [
  {
   "cell_type": "markdown",
   "metadata": {},
   "source": [
    "## 备注：\n",
    "\n",
    "系统默认打开的会首先是英文 “Q-learning-cart.ipynb“ 文件。 如需要中文版本，请直接点击左上角 ”Jupter“， 选择 “ Q-learning-cart-zh.ipynb” 即可加载出中文文件。如未出现，请点击Workspace左下角的Menu上的红色三角，选择‘reset data’即能更新到最新的directory，但是该更新会还原所有的文件内容，请预先保存，谢谢。"
   ]
  }
 ],
 "metadata": {
  "kernelspec": {
   "display_name": "Python 3",
   "language": "python",
   "name": "python3"
  },
  "language_info": {
   "codemirror_mode": {
    "name": "ipython",
    "version": 3
   },
   "file_extension": ".py",
   "mimetype": "text/x-python",
   "name": "python",
   "nbconvert_exporter": "python",
   "pygments_lexer": "ipython3",
   "version": "3.6.5"
  }
 },
 "nbformat": 4,
 "nbformat_minor": 2
}
