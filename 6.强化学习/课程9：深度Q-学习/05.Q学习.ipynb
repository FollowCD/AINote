{
 "cells": [
  {
   "cell_type": "markdown",
   "metadata": {},
   "source": [
    "**注意**：因为 SARSA 和 Q 学习都是 TD 方法，它们都有一个缺点，即使用非线性算法逼近时，可能无法收敛于全局最优。\n",
    "\n",
    "**阅读延伸**\n",
    "\n",
    "Rahimi 和 Recht， 2007 年，[《大规模内核机器的随机特征》 ](https://s3.cn-north-1.amazonaws.com.cn/static-documents/nd101/MLND+documents/randomfeatures.pdf)\n",
    "将会提供类似于 RBF 内核转换的有效逼近。"
   ]
  }
 ],
 "metadata": {
  "kernelspec": {
   "display_name": "Python 3",
   "language": "python",
   "name": "python3"
  },
  "language_info": {
   "codemirror_mode": {
    "name": "ipython",
    "version": 3
   },
   "file_extension": ".py",
   "mimetype": "text/x-python",
   "name": "python",
   "nbconvert_exporter": "python",
   "pygments_lexer": "ipython3",
   "version": "3.6.5"
  }
 },
 "nbformat": 4,
 "nbformat_minor": 2
}
