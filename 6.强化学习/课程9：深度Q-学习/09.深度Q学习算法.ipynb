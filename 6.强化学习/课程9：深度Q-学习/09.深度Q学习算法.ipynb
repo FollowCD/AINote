{
 "cells": [
  {
   "cell_type": "markdown",
   "metadata": {},
   "source": [
    "## 阅读延伸\n",
    "\n",
    "Mnih et al.，2015 年，[《通过深度强化学习实现人类级别的控制》](https://storage.googleapis.com/deepmind-media/dqn/DQNNaturePaper.pdf)（DQN 论文）\n",
    "\n",
    "He et al. ，2015 年，[《深入研究纠正器：在 ImageNet 分类方面超过人类水平》](https://arxiv.org/abs/1502.01852)（权重初始化）"
   ]
  }
 ],
 "metadata": {
  "kernelspec": {
   "display_name": "Python 3",
   "language": "python",
   "name": "python3"
  },
  "language_info": {
   "codemirror_mode": {
    "name": "ipython",
    "version": 3
   },
   "file_extension": ".py",
   "mimetype": "text/x-python",
   "name": "python",
   "nbconvert_exporter": "python",
   "pygments_lexer": "ipython3",
   "version": "3.6.5"
  }
 },
 "nbformat": 4,
 "nbformat_minor": 2
}
