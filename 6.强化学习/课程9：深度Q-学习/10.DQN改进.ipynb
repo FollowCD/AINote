{
 "cells": [
  {
   "cell_type": "markdown",
   "metadata": {},
   "source": [
    "## 阅读延伸\n",
    "\n",
    "Thrun 和 Schwartz，1993 年，[《使用函数逼近进行强化学习存在的问题》](http://citeseerx.ist.psu.edu/viewdoc/summary?doi=10.1.1.73.3097)（ 高估 Q 值）\n",
    "\n",
    "van Hasselt et al.，2015 年，[《双 Q 学习的深度强化学习》](https://arxiv.org/abs/1509.06461)\n",
    "\n",
    "Schaul et al.，2016 年，[《优先经验回放》](https://arxiv.org/abs/1511.05952)\n",
    "\n",
    "Wang et al.，2015 年。[《深度强化学习的对抗网络架构》。](https://arxiv.org/abs/1511.06581)\n",
    "\n",
    "Hausknecht 和 Stone，2015 年，[《部分可观察 MDP 的深度递归 Q 学习》](https://arxiv.org/abs/1507.06527)"
   ]
  }
 ],
 "metadata": {
  "kernelspec": {
   "display_name": "Python 3",
   "language": "python",
   "name": "python3"
  },
  "language_info": {
   "codemirror_mode": {
    "name": "ipython",
    "version": 3
   },
   "file_extension": ".py",
   "mimetype": "text/x-python",
   "name": "python",
   "nbconvert_exporter": "python",
   "pygments_lexer": "ipython3",
   "version": "3.6.5"
  }
 },
 "nbformat": 4,
 "nbformat_minor": 2
}
