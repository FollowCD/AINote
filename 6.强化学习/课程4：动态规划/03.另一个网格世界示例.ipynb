{
 "cells": [
  {
   "cell_type": "markdown",
   "metadata": {},
   "source": [
    "在这个简单的网格世界示例中，你通过肉眼观察也许就能轻松地确定最优策略。当然，解决现实中的马尔可夫决策流程 (MDP) 问题将会难得多！:)\n",
    "\n",
    "为了避免使理论知识过于复杂，我们将使用这个简单的示例来介绍解决非常复杂的 MDP 问题用到的相同算法。"
   ]
  }
 ],
 "metadata": {
  "kernelspec": {
   "display_name": "Python 3",
   "language": "python",
   "name": "python3"
  },
  "language_info": {
   "codemirror_mode": {
    "name": "ipython",
    "version": 3
   },
   "file_extension": ".py",
   "mimetype": "text/x-python",
   "name": "python",
   "nbconvert_exporter": "python",
   "pygments_lexer": "ipython3",
   "version": "3.6.5"
  }
 },
 "nbformat": 4,
 "nbformat_minor": 2
}
