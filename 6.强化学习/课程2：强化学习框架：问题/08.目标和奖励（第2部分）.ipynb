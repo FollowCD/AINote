{
 "cells": [
  {
   "cell_type": "markdown",
   "metadata": {},
   "source": [
    "如果你想详细了解 [DeepMind](https://deepmind.com/) 的研究成果，请参阅[此链接](https://deepmind.com/blog/producing-flexible-behaviours-simulated-environments/)。研究论文位于[此处](https://arxiv.org/pdf/1707.02286.pdf)。此外，请观看这个非常酷的[视频](https://www.youtube.com/watch?v=hx_bgoTF7bs&feature=youtu.be)（链接来自Youtube，可能打不开）！"
   ]
  }
 ],
 "metadata": {
  "kernelspec": {
   "display_name": "Python 3",
   "language": "python",
   "name": "python3"
  },
  "language_info": {
   "codemirror_mode": {
    "name": "ipython",
    "version": 3
   },
   "file_extension": ".py",
   "mimetype": "text/x-python",
   "name": "python",
   "nbconvert_exporter": "python",
   "pygments_lexer": "ipython3",
   "version": "3.6.5"
  }
 },
 "nbformat": 4,
 "nbformat_minor": 2
}
