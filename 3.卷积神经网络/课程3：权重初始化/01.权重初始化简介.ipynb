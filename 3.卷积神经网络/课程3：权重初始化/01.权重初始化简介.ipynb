{
 "cells": [
  {
   "cell_type": "markdown",
   "metadata": {},
   "source": [
    "这周，我们将讲解权重初始化。你将学习如何为神经网络确定合适的初始权重。好的初始权重可以使神经网络更接近最优解，也能够使神经网络更快地得到最优结果。\n",
    "\n",
    "你可以在该课程 GitHub 代码库 的 tutorials/weight-initialization 文件夹下找到本节课的 Notebook 文件，weight_initialization.ipynb。从 Github 下载文件或克隆代码库\n",
    "\n",
    "git clone https://github.com/udacity/cn-deep-learni"
   ]
  }
 ],
 "metadata": {
  "kernelspec": {
   "display_name": "Python 3",
   "language": "python",
   "name": "python3"
  },
  "language_info": {
   "codemirror_mode": {
    "name": "ipython",
    "version": 3
   },
   "file_extension": ".py",
   "mimetype": "text/x-python",
   "name": "python",
   "nbconvert_exporter": "python",
   "pygments_lexer": "ipython3",
   "version": "3.6.5"
  }
 },
 "nbformat": 4,
 "nbformat_minor": 2
}
