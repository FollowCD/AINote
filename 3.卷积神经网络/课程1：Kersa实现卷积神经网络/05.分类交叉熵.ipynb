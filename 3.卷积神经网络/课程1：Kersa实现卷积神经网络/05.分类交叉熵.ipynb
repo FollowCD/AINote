{
 "cells": [
  {
   "cell_type": "markdown",
   "metadata": {},
   "source": [
    "## 课外资料\n",
    "损失函数是用来估量模型中预测值y与真实值Y之间的差异，即不一致程度\n",
    "\n",
    "如果你想详细了解 Keras 中的完全连接层，请阅读这篇关于密集层的[文档](https://keras.io/layers/core/)。你可以通过为 kernel_initializer 和 bias_initializer 参数提供值更改权重的初始化方法。注意默认值分别为 'glorot_uniform' 和 'zeros'。你可以在相应的 Keras [文档](https://keras.io/initializers/)中详细了解每种初始化程序的工作方法。\n",
    "\n",
    "Keras 中有很多不同的[损失函数](https://keras.io/losses/)。对于这节课来说，我们将仅使用 categorical_crossentropy。\n",
    "参阅 Keras 中[可用的优化程序列表](https://keras.io/optimizers/)。当你编译模型（在记事本的第 7 步）时就会指定优化程序。\n",
    "\n",
    "'sgd' : SGD\n",
    "\n",
    "'rmsprop' : RMSprop\n",
    "\n",
    "'adagrad' : Adagrad\n",
    "\n",
    "'adadelta' : Adadelta\n",
    "\n",
    "'adam' : Adam\n",
    "\n",
    "'adamax' : Adamax\n",
    "\n",
    "'nadam' : Nadam\n",
    "\n",
    "'tfoptimizer' : TFOptimizer"
   ]
  }
 ],
 "metadata": {
  "kernelspec": {
   "display_name": "Python 3",
   "language": "python",
   "name": "python3"
  },
  "language_info": {
   "codemirror_mode": {
    "name": "ipython",
    "version": 3
   },
   "file_extension": ".py",
   "mimetype": "text/x-python",
   "name": "python",
   "nbconvert_exporter": "python",
   "pygments_lexer": "ipython3",
   "version": "3.6.5"
  }
 },
 "nbformat": 4,
 "nbformat_minor": 2
}
