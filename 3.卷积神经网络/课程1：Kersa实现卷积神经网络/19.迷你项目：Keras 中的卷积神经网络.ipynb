{
 "cells": [
  {
   "cell_type": "markdown",
   "metadata": {},
   "source": [
    "在这个迷你项目中，你将在 [cifar10_cnn.ipynb](https://github.com/udacity/aind2-cnn/blob/master/cifar10-classification/cifar10_cnn.ipynb) 中修改神经网络的架构。Github 提供了 [初学者代码](https://github.com/udacity/aind2-cnn)。\n",
    "\n",
    "## 说明\n",
    "**第五步中指定卷积神经网络新架构。在 Notebook 中定义模型架构**。如果你需要灵感，请查阅 [此链接](https://github.com/fchollet/keras/blob/master/examples/cifar10_cnn.py)。\n",
    "\n",
    "训练新模型。一旦完成，立即检查测试数据集的准确性，在下面的文本框中报告比率。\n",
    "\n",
    "你可以随意修改 notebook 中的其他部分。例如，探索一下使用其他不同 [优化器](https://keras.io/optimizers/)? 会发生什么。"
   ]
  }
 ],
 "metadata": {
  "kernelspec": {
   "display_name": "Python 3",
   "language": "python",
   "name": "python3"
  },
  "language_info": {
   "codemirror_mode": {
    "name": "ipython",
    "version": 3
   },
   "file_extension": ".py",
   "mimetype": "text/x-python",
   "name": "python",
   "nbconvert_exporter": "python",
   "pygments_lexer": "ipython3",
   "version": "3.6.5"
  }
 },
 "nbformat": 4,
 "nbformat_minor": 2
}
