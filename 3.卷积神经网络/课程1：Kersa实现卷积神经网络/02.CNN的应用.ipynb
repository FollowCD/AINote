{
 "cells": [
  {
   "cell_type": "markdown",
   "metadata": {},
   "source": [
    "## 课外资料\n",
    "注：部分资料来自国外 youtube 与 google research.\n",
    "\n",
    "了解 WaveNet 模型。：https://deepmind.com/blog/wavenet-generative-model-raw-audio/\n",
    "\n",
    "\n",
    "如果你能训练人工智能机器人唱歌，干嘛还训练它聊天？在 2017 年 4 月，研究人员使用 WaveNet 模型的变体生成了歌曲。原始论文和演示可以在[此处](http://www.creativeai.net/posts/W2C3baXvf2yJSLbY6/a-neural-parametric-singing-synthesizer)找到。\n",
    "了解[文本分类 CNN](http://www.wildml.com/2015/12/implementing-a-cnn-for-text-classification-in-tensorflow/)。\n",
    "\n",
    "你或许想注册作者的[深度学习简讯](https://www.getrevue.co/profile/wildml)！\n",
    "了解 Facebook 的[创新 CNN 方法](https://code.facebook.com/posts/1978007565818999/a-novel-approach-to-neural-machine-translation/)(Facebook)，该方法专门用于解决语言翻译任务，准确率达到了前沿性水平，并且速度是 RNN 模型的 9 倍。\n",
    "\n",
    "利用 CNN 和强化学习玩 [Atari 游戏](https://deepmind.com/research/dqn/)。你可以[下载](https://sites.google.com/a/deepmind.com/dqn/)此论文附带的代码。\n",
    "\n",
    "如果你想研究一些（深度强化学习）初学者代码，建议你参阅 Andrej Karpathy 的[帖子](http://karpathy.github.io/2016/05/31/rl/)。\n",
    "\n",
    "利用 CNN 玩[看图说词游戏](https://quickdraw.withgoogle.com/#)！\n",
    "\n",
    "此外，还可以参阅 [A.I. Experiments](https://aiexperiments.withgoogle.com/) 网站上的所有其他很酷的实现。别忘了 [AutoDraw](https://www.autodraw.com/)！\n",
    "\n",
    "详细了解 [AlphaGo](https://deepmind.com/research/alphago/)。\n",
    "\n",
    "阅读[这篇文章](https://www.technologyreview.com/s/604273/finding-solace-in-defeat-by-artificial-intelligence/?set=604287)，其中提出了一个问题：如果掌控 Go“需要人类直觉”，那么人性受到挑战是什么感觉？_\n",
    "\n",
    "观看这些非常酷的视频，其中的无人机都受到 CNN 的支持。\n",
    "\n",
    "这是初创企业 [Intelligent Flying Machines (IFM)](https://www.youtube.com/watch?v=AMDiR61f86Y) (Youtube)的访谈。\n",
    "\n",
    "户外自主导航通常都要借助[全球定位系统 (GPS)](http://www.droneomega.com/gps-drone-navigation-works/)，但是下面的演示展示的是由 CNN 提供技术支持的[自主无人机](https://www.youtube.com/watch?v=wSFYOw4VIYY)(Youtube)。\n",
    "\n",
    "如果你对无人驾驶汽车使用的 CNN 感兴趣，请参阅：\n",
    "\n",
    "我们的[无人驾驶汽车工程师纳米学位课程](https://www.udacity.com/course/self-driving-car-engineer-nanodegree--nd013)，我们在[此项目](https://github.com/udacity/CarND-Traffic-Sign-Classifier-Project)中对[德国交通标志](http://benchmark.ini.rub.de/?section=gtsrb&subsection=dataset)数据集中的标志进行分类。\n",
    "我们的[机器学习工程师纳米学位课程](https://www.udacity.com/course/machine-learning-engineer-nanodegree--nd009)，我们在[此项目](https://github.com/udacity/machine-learning/tree/master/projects/digit_recognition)中对[街景门牌号](http://ufldl.stanford.edu/housenumbers/)数据集中的门牌号进行分类。\n",
    "\n",
    "这些系列[博客](https://pythonprogramming.net/game-frames-open-cv-python-plays-gta-v/)，其中详细讲述了如何训练用 Python 编写的 CNN，以便生成能够玩“侠盗猎车手”的无人驾驶 AI。\n",
    "\n",
    "参阅视频中没有提到的其他应用情形。\n",
    "\n",
    "一些全球最著名的画作被转换成了[三维形式](http://www.businessinsider.com/3d-printed-works-of-art-for-the-blind-2016-1)，以便视力受损人士也能欣赏。虽然这篇文章没有提到是怎么做到的，我们注意到可以使用 CNN [预测单个图片的深度](https://www.cs.nyu.edu/~deigen/depth/)。\n",
    "参阅这篇关于使用 CNN 确定乳腺癌位置的[研究论文](https://research.googleblog.com/2017/03/assisting-pathologists-in-detecting.html)(google research)。\n",
    "\n",
    "CNN 被用来[拯救濒危物种](https://blogs.nvidia.com/blog/2016/11/04/saving-endangered-species/?adbsc=social_20170303_70517416)！\n",
    "\n",
    "一款叫做 [FaceApp ](http://www.digitaltrends.com/photography/faceapp-neural-net-image-editing/)的应用使用 CNN 让你在照片中是微笑状态或改变性别。"
   ]
  }
 ],
 "metadata": {
  "kernelspec": {
   "display_name": "Python 3",
   "language": "python",
   "name": "python3"
  },
  "language_info": {
   "codemirror_mode": {
    "name": "ipython",
    "version": 3
   },
   "file_extension": ".py",
   "mimetype": "text/x-python",
   "name": "python",
   "nbconvert_exporter": "python",
   "pygments_lexer": "ipython3",
   "version": "3.6.5"
  }
 },
 "nbformat": 4,
 "nbformat_minor": 2
}
