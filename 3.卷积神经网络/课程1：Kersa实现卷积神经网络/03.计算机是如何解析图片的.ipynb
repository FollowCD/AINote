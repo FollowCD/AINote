{
 "cells": [
  {
   "cell_type": "markdown",
   "metadata": {},
   "source": [
    "在学习这节课的过程中，建议你打开参考 Jupyter 记事本。我们将会提供解决方案，但是请尝试自己创建深度学习模型！这段学习体验的价值在很大程度上来自于自己去研究代码。\n",
    "\n",
    "要开始操作，请克隆该 GitHub 资源库 中的资料，方法是在终端里输入以下命令：git clone https://github.com/udacity/aind2-cnn.git。按照 该资源库中的说明操作，设置 Conda 环境并安装必要的依赖项。\n",
    "\n",
    "要打开视频中提到的记事本，请转到 mnist-mlp/ 文件夹并打开 mnist_mlp.ipynb。\n",
    "\n",
    "其他注意事项\n",
    "MNIST 数据库可以说是深度学习领域最著名的数据库！请参阅此[图表](https://www.kaggle.com/benhamner/d/benhamner/nips-papers/popular-datasets-over-time/code)，其中展示了一直以来在 [NIPS](https://nips.cc/) 论文中引用的数据集。"
   ]
  }
 ],
 "metadata": {
  "kernelspec": {
   "display_name": "Python 3",
   "language": "python",
   "name": "python3"
  },
  "language_info": {
   "codemirror_mode": {
    "name": "ipython",
    "version": 3
   },
   "file_extension": ".py",
   "mimetype": "text/x-python",
   "name": "python",
   "nbconvert_exporter": "python",
   "pygments_lexer": "ipython3",
   "version": "3.6.5"
  }
 },
 "nbformat": 4,
 "nbformat_minor": 2
}
