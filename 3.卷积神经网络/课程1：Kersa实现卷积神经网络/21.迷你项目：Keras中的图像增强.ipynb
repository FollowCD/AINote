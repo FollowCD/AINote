{
 "cells": [
  {
   "cell_type": "markdown",
   "metadata": {},
   "source": [
    "## 迷你项目：Keras中的图像增强\n",
    "通过仔细阅读这个 [文档](https://keras.io/preprocessing/image/) 了解Keras数据增强的更多内容。\n",
    "\n",
    "在这个迷你项目中，你可以在[cifar10_augmentation.ipynb](https://github.com/udacity/aind2-cnn/blob/master/cifar10-augmentation/cifar10_augmentation.ipynb)中修改数据增强，检查网络准确度如何变化。Github提供了 [初学者代码](https://github.com/udacity/aind2-cnn)。\n",
    "\n",
    "**说明**\n",
    "\n",
    "第5步修改：在 notebook 中创建并配置增强后的图像生成器，使用数据增强的不同设置。仔细阅读可用参数值列表 [此处](https://keras.io/preprocessing/image/)。\n",
    "\n",
    "改变设置后，训练模型。检查测试数据集的准确性，在下面的文本框中报告比率。"
   ]
  }
 ],
 "metadata": {
  "kernelspec": {
   "display_name": "Python 3",
   "language": "python",
   "name": "python3"
  },
  "language_info": {
   "codemirror_mode": {
    "name": "ipython",
    "version": 3
   },
   "file_extension": ".py",
   "mimetype": "text/x-python",
   "name": "python",
   "nbconvert_exporter": "python",
   "pygments_lexer": "ipython3",
   "version": "3.6.5"
  }
 },
 "nbformat": 4,
 "nbformat_minor": 2
}
