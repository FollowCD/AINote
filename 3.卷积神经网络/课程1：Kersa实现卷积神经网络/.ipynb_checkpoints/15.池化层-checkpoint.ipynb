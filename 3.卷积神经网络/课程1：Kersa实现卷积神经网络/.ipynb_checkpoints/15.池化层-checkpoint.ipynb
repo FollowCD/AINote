{
 "cells": [
  {
   "cell_type": "markdown",
   "metadata": {},
   "source": [
    "## 课外资料\n",
    "请参阅该 Keras [文档](https://keras.io/layers/pooling/)，了解不同类型的池化层！\n",
    "\n",
    "论文network in network:https://arxiv.org/abs/1312.4400"
   ]
  }
 ],
 "metadata": {
  "kernelspec": {
   "display_name": "Python 3",
   "language": "python",
   "name": "python3"
  },
  "language_info": {
   "codemirror_mode": {
    "name": "ipython",
    "version": 3
   },
   "file_extension": ".py",
   "mimetype": "text/x-python",
   "name": "python",
   "nbconvert_exporter": "python",
   "pygments_lexer": "ipython3",
   "version": "3.6.5"
  }
 },
 "nbformat": 4,
 "nbformat_minor": 2
}
