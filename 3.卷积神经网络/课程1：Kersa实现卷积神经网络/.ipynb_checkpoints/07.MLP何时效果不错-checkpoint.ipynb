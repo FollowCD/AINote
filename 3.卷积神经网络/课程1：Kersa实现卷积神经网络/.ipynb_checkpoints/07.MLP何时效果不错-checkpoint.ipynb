{
 "cells": [
  {
   "cell_type": "markdown",
   "metadata": {},
   "source": [
    "2分钟处，‘与MLP不同CNN知道’，改为‘与MLP不同，CNN知道’\n",
    "\n",
    "## 课外资料\n",
    "\n",
    "参阅其他分类器的效果：http://yann.lecun.com/exdb/mnist/"
   ]
  }
 ],
 "metadata": {
  "kernelspec": {
   "display_name": "Python 3",
   "language": "python",
   "name": "python3"
  },
  "language_info": {
   "codemirror_mode": {
    "name": "ipython",
    "version": 3
   },
   "file_extension": ".py",
   "mimetype": "text/x-python",
   "name": "python",
   "nbconvert_exporter": "python",
   "pygments_lexer": "ipython3",
   "version": "3.6.5"
  }
 },
 "nbformat": 4,
 "nbformat_minor": 2
}
