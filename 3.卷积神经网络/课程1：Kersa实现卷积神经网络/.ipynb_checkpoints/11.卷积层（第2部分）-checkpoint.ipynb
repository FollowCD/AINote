{
 "cells": [
  {
   "cell_type": "markdown",
   "metadata": {},
   "source": [
    "你可以在[此处](https://github.com/udacity/aind2-cnn)链接的 aind2-cnn GitHub 资源库中访问视频中描述的 Jupyter 记事本。请转到 conv-visualization/ 文件夹并打开 conv_visualization.ipynb。\n",
    "\n",
    "## 课外资料\n",
    "请访问[此网站](http://setosa.io/ev/image-kernels/)，并自己创建过滤器。然后，你可以使用你的摄像头作为卷积层的输入，并可视化对应的激活映射！"
   ]
  }
 ],
 "metadata": {
  "kernelspec": {
   "display_name": "Python 3",
   "language": "python",
   "name": "python3"
  },
  "language_info": {
   "codemirror_mode": {
    "name": "ipython",
    "version": 3
   },
   "file_extension": ".py",
   "mimetype": "text/x-python",
   "name": "python",
   "nbconvert_exporter": "python",
   "pygments_lexer": "ipython3",
   "version": "3.6.5"
  }
 },
 "nbformat": 4,
 "nbformat_minor": 2
}
