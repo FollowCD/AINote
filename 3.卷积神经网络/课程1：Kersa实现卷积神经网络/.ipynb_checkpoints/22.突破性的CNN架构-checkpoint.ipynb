{
 "cells": [
  {
   "cell_type": "markdown",
   "metadata": {},
   "source": [
    "## 课外资料\n",
    "参阅 [AlexNet](http://papers.nips.cc/paper/4824-imagenet-classification-with-deep-convolutional-neural-networks.pdf) 论文！\n",
    "\n",
    "在此处详细了解 [VGGNet](https://arxiv.org/pdf/1409.1556.pdf)。\n",
    "\n",
    "此处是 [ResNet](https://arxiv.org/pdf/1512.03385v1.pdf) 论文。\n",
    "\n",
    "这是用于访问一些著名 CNN 架构的 Keras [文档](https://keras.io/applications/)。\n",
    "\n",
    "阅读这一关于梯度消失问题的[详细处理方案](http://neuralnetworksanddeeplearning.com/chap5.html)。\n",
    "\n",
    "这是包含不同 CNN 架构的基准的 GitHub [资源库](https://github.com/jcjohnson/cnn-benchmarks)。\n",
    "\n",
    "访问 [ImageNet Large Scale Visual Recognition Competition (ILSVRC)](http://www.image-net.org/challenges/LSVRC/) 网站。"
   ]
  }
 ],
 "metadata": {
  "kernelspec": {
   "display_name": "Python 3",
   "language": "python",
   "name": "python3"
  },
  "language_info": {
   "codemirror_mode": {
    "name": "ipython",
    "version": 3
   },
   "file_extension": ".py",
   "mimetype": "text/x-python",
   "name": "python",
   "nbconvert_exporter": "python",
   "pygments_lexer": "ipython3",
   "version": "3.6.5"
  }
 },
 "nbformat": 4,
 "nbformat_minor": 2
}
