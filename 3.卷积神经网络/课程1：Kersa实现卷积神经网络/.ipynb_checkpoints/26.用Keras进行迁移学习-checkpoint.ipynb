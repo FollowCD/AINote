{
 "cells": [
  {
   "cell_type": "markdown",
   "metadata": {},
   "source": [
    "## 可选资源\n",
    "这里是[第一篇研究论文](http://cnnlocalization.csail.mit.edu/Zhou_Learning_Deep_Features_CVPR_2016_paper.pdf) 说明了物体定位中GAP层的应用。\n",
    "\n",
    "阅读[代码](https://github.com/alexisbcook/ResNetCAM-keras)来看如何使用CNN来进行物体定位。\n",
    "\n",
    "看[视频](https://www.youtube.com/watch?v=fZvOy0VXWAI) 关于CNN用于物体定位。\n",
    "\n",
    "查看[代码](https://github.com/alexisbcook/keras_transfer_cifar10)使用可视化技术来更好的理解bottleneck特征。"
   ]
  }
 ],
 "metadata": {
  "kernelspec": {
   "display_name": "Python 3",
   "language": "python",
   "name": "python3"
  },
  "language_info": {
   "codemirror_mode": {
    "name": "ipython",
    "version": 3
   },
   "file_extension": ".py",
   "mimetype": "text/x-python",
   "name": "python",
   "nbconvert_exporter": "python",
   "pygments_lexer": "ipython3",
   "version": "3.6.5"
  }
 },
 "nbformat": 4,
 "nbformat_minor": 2
}
