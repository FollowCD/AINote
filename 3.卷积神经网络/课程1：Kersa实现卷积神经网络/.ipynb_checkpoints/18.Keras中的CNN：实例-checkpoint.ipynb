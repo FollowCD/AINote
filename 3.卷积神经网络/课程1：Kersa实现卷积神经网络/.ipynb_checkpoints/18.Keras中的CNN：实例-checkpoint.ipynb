{
 "cells": [
  {
   "cell_type": "markdown",
   "metadata": {},
   "source": [
    "3分27秒处，“对模型训练100个epoch批次大小为32”，意义为“对模型训练100个epoch批次，每个批次大小为32”\n",
    "\n",
    "如果你尚未通过 AWS 启动 GPU 服务器，强烈建议你先启动，然后再运行此视频中的 notebook。虽然可以在 CPU 上训练 notebook，但是 AWS GPU 实例训练起来将快很多。\n",
    "\n",
    "你可以在 aind2-cnn GitHub [资源库](https://github.com/udacity/aind2-cnn)中访问视频中描述的 Jupyter Notebook。转到 cifar10-classification/ 文件夹并打开 cifar10_mlp.ipynb 和 cifar10_cnn.ipynb。\n",
    "\n",
    "## 验证集注意事项\n",
    "[在这节课的早些时候](https://github.com/udacity/aind2-cnn/blob/master/mnist-mlp/mnist_mlp.ipynb)，我们通过验证方式训练了一个神经网络，方法是将 model.fit 中的 validation_split 参数设为 0.2。这样会将训练数据的最后 20% 数据变成验证数据。在此视频的 notebook 中，我们自己硬编码了拆分比例，而不是让 Keras 为我们拆分验证集。\n",
    "\n",
    "## 课外资料\n",
    "这是用于在 Keras 中指定神经网络（包括 CNN）的[备忘单](https://s3.amazonaws.com/assets.datacamp.com/blog_assets/Keras_Cheat_Sheet_Python.pdf)。\n",
    "\n",
    "参阅 CIFAR-10 竞赛的[获胜架构](http://blog.kaggle.com/2015/01/02/cifar-10-competition-winners-interviews-with-dr-ben-graham-phil-culliton-zygmunt-zajac/)！"
   ]
  }
 ],
 "metadata": {
  "kernelspec": {
   "display_name": "Python 3",
   "language": "python",
   "name": "python3"
  },
  "language_info": {
   "codemirror_mode": {
    "name": "ipython",
    "version": 3
   },
   "file_extension": ".py",
   "mimetype": "text/x-python",
   "name": "python",
   "nbconvert_exporter": "python",
   "pygments_lexer": "ipython3",
   "version": "3.6.5"
  }
 },
 "nbformat": 4,
 "nbformat_minor": 2
}
