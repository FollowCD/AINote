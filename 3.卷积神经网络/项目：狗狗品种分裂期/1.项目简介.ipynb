{
 "cells": [
  {
   "cell_type": "markdown",
   "metadata": {},
   "source": [
    "## 项目概况\n",
    "欢迎来到卷积神经网络（CNN）项目！在这一项目中，你将学到如何建立一个处理现实生活中的，用户提供的图像的算法。给你一个狗的图像，你的算法将会识别并估计狗的品种，如果提供的图像是人，代码将会识别最相近的狗的品种。\n",
    "\n",
    "你可以查看项目的 github 地址从那里开始你的项目\n",
    "\n",
    "https://github.com/udacity/cn-deep-learning/tree/master/dog-project\n",
    "\n",
    "或者使用教室中的Notebook来完成你的项目后，在提交作业时，将ipynb文件另存为“.ipynb”，\".html\"，\".py\"三种格式下载，并三个文件一起打包上传。"
   ]
  }
 ],
 "metadata": {
  "kernelspec": {
   "display_name": "Python 3",
   "language": "python",
   "name": "python3"
  },
  "language_info": {
   "codemirror_mode": {
    "name": "ipython",
    "version": 3
   },
   "file_extension": ".py",
   "mimetype": "text/x-python",
   "name": "python",
   "nbconvert_exporter": "python",
   "pygments_lexer": "ipython3",
   "version": "3.6.5"
  }
 },
 "nbformat": 4,
 "nbformat_minor": 2
}
