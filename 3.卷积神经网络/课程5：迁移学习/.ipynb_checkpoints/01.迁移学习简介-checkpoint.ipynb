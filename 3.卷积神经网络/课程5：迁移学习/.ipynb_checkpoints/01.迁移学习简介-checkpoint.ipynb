{
 "cells": [
  {
   "cell_type": "markdown",
   "metadata": {},
   "source": [
    "## 迁移学习\n",
    "在实际中，通常不会自己训练庞大的神经网络。事实上已有很多使用大型数据集（如 [ImageNet](http://www.image-net.org/)） 训练长达数周的模型。在本课中，你将学习使用预训练模型 [VGGNet](http://www.robots.ox.ac.uk/~vgg/research/very_deep/) 对花朵图像进行分类。\n",
    "\n",
    "课程 notebook 文件\n",
    "你可以在该课程的 公共 GitHub 代码库 中找到本课中使用的 notebooks 文件。\n",
    "\n",
    "要获取文件：\n",
    "```\n",
    "git clone https://github.com/udacity/cn-deep-learning.git\n",
    "```\n",
    "notebooks 位于 tutorials/transfer-learning 目录下。\n",
    "\n",
    "我们将使用来自 https://github.com/machrisaa/tensorflow-vgg 的一个预训练网络。确保将此目录克隆到 tutorials/transfer-learning 目录下。\n",
    "\n",
    "```\n",
    "cd  transfer-learning\n",
    "git clone https://github.com/machrisaa/tensorflow-vgg.git tensorflow_vgg\n",
    "```\n",
    "额外程序包\n",
    "要运行此代码，还需要 tqdm 和 scikit-image 程序包，你环境中若尚未安装，可以使用 Conda 安装：\n",
    "```\n",
    "pip install tqdm\n",
    "conda install scikit-image\n",
    "```"
   ]
  }
 ],
 "metadata": {
  "kernelspec": {
   "display_name": "Python 3",
   "language": "python",
   "name": "python3"
  },
  "language_info": {
   "codemirror_mode": {
    "name": "ipython",
    "version": 3
   },
   "file_extension": ".py",
   "mimetype": "text/x-python",
   "name": "python",
   "nbconvert_exporter": "python",
   "pygments_lexer": "ipython3",
   "version": "3.6.5"
  }
 },
 "nbformat": 4,
 "nbformat_minor": 2
}
